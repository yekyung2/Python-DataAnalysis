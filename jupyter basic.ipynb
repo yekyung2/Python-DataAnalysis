{
 "cells": [
  {
   "cell_type": "markdown",
   "metadata": {},
   "source": [
    "# 주피터 노트북 사용법\n",
    "* shift + Enter 키를 누르면 셀이 실행되고 커서가 다음셀로 이동한다. \n",
    "* Enter 키를 누르면 다시 편집상태로 돌아온다. \n",
    "* ESC키를 누르고\n",
    "    * a 키를 누르면 위에 셀이 추가된다. \n",
    "    * b 키를 누르면 아래에 셀이 추가된다. \n",
    "    * dd 키를 누르면 셀이 삭제된다.\n",
    "    * m 키를 누르면 문서 셀로 변경된다. \n",
    "    * y z키를 누르면 코드 셀로 변경된다. \n",
    "* H 버튼을 누르면 여러 단축키 버튼의 설명을 확인할 수 있다.\n",
    "* 상단 바에서 view -> Toggle line number 셀 내의 줄 수를 확인 할 수 있다. \n",
    "\n",
    "## 마크다운(Markdown)이란?\n",
    "* 코드와 함께 문서화를 할 수 있다.\n",
    "* 문서화를 할 수 있는 `문법`이다.\n",
    "* 백틱을 이용해 `강조` 또는 줄바꿈을 할 수 있다. (alt+~)\n",
    "````\n",
    "여러 줄의 설명을\n",
    "줄바꿈으로 쓰고자 할 때\n",
    "```\n",
    "* 샵의 갯수로 글자 크기 변경이 가능하다."
   ]
  },
  {
   "cell_type": "code",
   "execution_count": 1,
   "metadata": {},
   "outputs": [
    {
     "name": "stdout",
     "output_type": "stream",
     "text": [
      "Hello World\n"
     ]
    }
   ],
   "source": [
    "print(\"Hello World\")"
   ]
  },
  {
   "cell_type": "code",
   "execution_count": 2,
   "metadata": {},
   "outputs": [
    {
     "data": {
      "text/plain": [
       "3"
      ]
     },
     "execution_count": 2,
     "metadata": {},
     "output_type": "execute_result"
    }
   ],
   "source": [
    "a = 1\n",
    "b = 2\n",
    "a + b"
   ]
  },
  {
   "cell_type": "code",
   "execution_count": null,
   "metadata": {},
   "outputs": [],
   "source": []
  },
  {
   "cell_type": "code",
   "execution_count": null,
   "metadata": {},
   "outputs": [],
   "source": []
  }
 ],
 "metadata": {
  "kernelspec": {
   "display_name": "Python 3",
   "language": "python",
   "name": "python3"
  },
  "language_info": {
   "codemirror_mode": {
    "name": "ipython",
    "version": 3
   },
   "file_extension": ".py",
   "mimetype": "text/x-python",
   "name": "python",
   "nbconvert_exporter": "python",
   "pygments_lexer": "ipython3",
   "version": "3.8.3"
  }
 },
 "nbformat": 4,
 "nbformat_minor": 4
}
